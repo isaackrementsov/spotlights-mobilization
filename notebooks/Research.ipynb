{
 "cells": [
  {
   "cell_type": "markdown",
   "id": "595b740b",
   "metadata": {},
   "source": [
    "## Mass Mobilization Research Notebook"
   ]
  },
  {
   "cell_type": "code",
   "execution_count": 1,
   "id": "60647e4f",
   "metadata": {},
   "outputs": [],
   "source": [
    "#%pip install numpy pandas pandas_gbq matplotlib networkx pytrends\n",
    "import numpy as np\n",
    "import pandas as pd\n",
    "import pandas_gbq \n",
    "import matplotlib as mpl\n",
    "import matplotlib.pyplot as plt\n",
    "import networkx as nx\n",
    "from pytrends.request import TrendReq\n",
    "import os"
   ]
  },
  {
   "cell_type": "markdown",
   "id": "411e2baf",
   "metadata": {},
   "source": [
    "### GDelt"
   ]
  },
  {
   "cell_type": "raw",
   "id": "10b0ee4c",
   "metadata": {},
   "source": [
    "query = \"\"\"\n",
    "    SELECT MonthYear, count(*) FROM `gdelt-bq.full.events` WHERE EventBaseCode = \"014\" GROUP BY MonthYear ORDER BY MonthYear;\n",
    "\"\"\"\n",
    "\n",
    "event_df = pandas_gbq.read_gbq(query, project_id=\"gdelt-d-379201\")\n",
    "event_df.plot(x=\"MonthYear\", y=\"f0_\")"
   ]
  },
  {
   "cell_type": "code",
   "execution_count": 2,
   "id": "979b55cc",
   "metadata": {},
   "outputs": [
    {
     "ename": "GenericGBQException",
     "evalue": "Reason: 403 POST https://bigquery.googleapis.com/bigquery/v2/projects/gdelt-d-379201/jobs?prettyPrint=false: Access Denied: Project gdelt-d-379201: User does not have bigquery.jobs.create permission in project gdelt-d-379201.\n\nLocation: None\nJob ID: 577b9632-bb31-45fe-867b-41ea197eda4c\n",
     "output_type": "error",
     "traceback": [
      "\u001b[1;31m---------------------------------------------------------------------------\u001b[0m",
      "\u001b[1;31mForbidden\u001b[0m                                 Traceback (most recent call last)",
      "File \u001b[1;32m~\\miniconda3\\lib\\site-packages\\pandas_gbq\\gbq.py:479\u001b[0m, in \u001b[0;36mGbqConnector.run_query\u001b[1;34m(self, query, max_results, progress_bar_type, **kwargs)\u001b[0m\n\u001b[0;32m    478\u001b[0m logger\u001b[38;5;241m.\u001b[39mdebug(\u001b[38;5;124m\"\u001b[39m\u001b[38;5;124mRequesting query... \u001b[39m\u001b[38;5;124m\"\u001b[39m)\n\u001b[1;32m--> 479\u001b[0m query_reply \u001b[38;5;241m=\u001b[39m \u001b[38;5;28;43mself\u001b[39;49m\u001b[38;5;241;43m.\u001b[39;49m\u001b[43mclient\u001b[49m\u001b[38;5;241;43m.\u001b[39;49m\u001b[43mquery\u001b[49m\u001b[43m(\u001b[49m\n\u001b[0;32m    480\u001b[0m \u001b[43m    \u001b[49m\u001b[43mquery\u001b[49m\u001b[43m,\u001b[49m\n\u001b[0;32m    481\u001b[0m \u001b[43m    \u001b[49m\u001b[43mjob_config\u001b[49m\u001b[38;5;241;43m=\u001b[39;49m\u001b[43mbigquery\u001b[49m\u001b[38;5;241;43m.\u001b[39;49m\u001b[43mQueryJobConfig\u001b[49m\u001b[38;5;241;43m.\u001b[39;49m\u001b[43mfrom_api_repr\u001b[49m\u001b[43m(\u001b[49m\u001b[43mjob_config\u001b[49m\u001b[43m)\u001b[49m\u001b[43m,\u001b[49m\n\u001b[0;32m    482\u001b[0m \u001b[43m    \u001b[49m\u001b[43mlocation\u001b[49m\u001b[38;5;241;43m=\u001b[39;49m\u001b[38;5;28;43mself\u001b[39;49m\u001b[38;5;241;43m.\u001b[39;49m\u001b[43mlocation\u001b[49m\u001b[43m,\u001b[49m\n\u001b[0;32m    483\u001b[0m \u001b[43m    \u001b[49m\u001b[43mproject\u001b[49m\u001b[38;5;241;43m=\u001b[39;49m\u001b[38;5;28;43mself\u001b[39;49m\u001b[38;5;241;43m.\u001b[39;49m\u001b[43mproject_id\u001b[49m\u001b[43m,\u001b[49m\n\u001b[0;32m    484\u001b[0m \u001b[43m\u001b[49m\u001b[43m)\u001b[49m\n\u001b[0;32m    485\u001b[0m logger\u001b[38;5;241m.\u001b[39mdebug(\u001b[38;5;124m\"\u001b[39m\u001b[38;5;124mQuery running...\u001b[39m\u001b[38;5;124m\"\u001b[39m)\n",
      "File \u001b[1;32m~\\miniconda3\\lib\\site-packages\\google\\cloud\\bigquery\\client.py:3403\u001b[0m, in \u001b[0;36mClient.query\u001b[1;34m(self, query, job_config, job_id, job_id_prefix, location, project, retry, timeout, job_retry, api_method)\u001b[0m\n\u001b[0;32m   3402\u001b[0m \u001b[38;5;28;01melif\u001b[39;00m api_method \u001b[38;5;241m==\u001b[39m enums\u001b[38;5;241m.\u001b[39mQueryApiMethod\u001b[38;5;241m.\u001b[39mINSERT:\n\u001b[1;32m-> 3403\u001b[0m     \u001b[38;5;28;01mreturn\u001b[39;00m \u001b[43m_job_helpers\u001b[49m\u001b[38;5;241;43m.\u001b[39;49m\u001b[43mquery_jobs_insert\u001b[49m\u001b[43m(\u001b[49m\n\u001b[0;32m   3404\u001b[0m \u001b[43m        \u001b[49m\u001b[38;5;28;43mself\u001b[39;49m\u001b[43m,\u001b[49m\n\u001b[0;32m   3405\u001b[0m \u001b[43m        \u001b[49m\u001b[43mquery\u001b[49m\u001b[43m,\u001b[49m\n\u001b[0;32m   3406\u001b[0m \u001b[43m        \u001b[49m\u001b[43mjob_config\u001b[49m\u001b[43m,\u001b[49m\n\u001b[0;32m   3407\u001b[0m \u001b[43m        \u001b[49m\u001b[43mjob_id\u001b[49m\u001b[43m,\u001b[49m\n\u001b[0;32m   3408\u001b[0m \u001b[43m        \u001b[49m\u001b[43mjob_id_prefix\u001b[49m\u001b[43m,\u001b[49m\n\u001b[0;32m   3409\u001b[0m \u001b[43m        \u001b[49m\u001b[43mlocation\u001b[49m\u001b[43m,\u001b[49m\n\u001b[0;32m   3410\u001b[0m \u001b[43m        \u001b[49m\u001b[43mproject\u001b[49m\u001b[43m,\u001b[49m\n\u001b[0;32m   3411\u001b[0m \u001b[43m        \u001b[49m\u001b[43mretry\u001b[49m\u001b[43m,\u001b[49m\n\u001b[0;32m   3412\u001b[0m \u001b[43m        \u001b[49m\u001b[43mtimeout\u001b[49m\u001b[43m,\u001b[49m\n\u001b[0;32m   3413\u001b[0m \u001b[43m        \u001b[49m\u001b[43mjob_retry\u001b[49m\u001b[43m,\u001b[49m\n\u001b[0;32m   3414\u001b[0m \u001b[43m    \u001b[49m\u001b[43m)\u001b[49m\n\u001b[0;32m   3415\u001b[0m \u001b[38;5;28;01melse\u001b[39;00m:\n",
      "File \u001b[1;32m~\\miniconda3\\lib\\site-packages\\google\\cloud\\bigquery\\_job_helpers.py:114\u001b[0m, in \u001b[0;36mquery_jobs_insert\u001b[1;34m(client, query, job_config, job_id, job_id_prefix, location, project, retry, timeout, job_retry)\u001b[0m\n\u001b[0;32m    112\u001b[0m         \u001b[38;5;28;01mreturn\u001b[39;00m query_job\n\u001b[1;32m--> 114\u001b[0m future \u001b[38;5;241m=\u001b[39m \u001b[43mdo_query\u001b[49m\u001b[43m(\u001b[49m\u001b[43m)\u001b[49m\n\u001b[0;32m    115\u001b[0m \u001b[38;5;66;03m# The future might be in a failed state now, but if it's\u001b[39;00m\n\u001b[0;32m    116\u001b[0m \u001b[38;5;66;03m# unrecoverable, we'll find out when we ask for it's result, at which\u001b[39;00m\n\u001b[0;32m    117\u001b[0m \u001b[38;5;66;03m# point, we may retry.\u001b[39;00m\n",
      "File \u001b[1;32m~\\miniconda3\\lib\\site-packages\\google\\cloud\\bigquery\\_job_helpers.py:91\u001b[0m, in \u001b[0;36mquery_jobs_insert.<locals>.do_query\u001b[1;34m()\u001b[0m\n\u001b[0;32m     90\u001b[0m \u001b[38;5;28;01mtry\u001b[39;00m:\n\u001b[1;32m---> 91\u001b[0m     \u001b[43mquery_job\u001b[49m\u001b[38;5;241;43m.\u001b[39;49m\u001b[43m_begin\u001b[49m\u001b[43m(\u001b[49m\u001b[43mretry\u001b[49m\u001b[38;5;241;43m=\u001b[39;49m\u001b[43mretry\u001b[49m\u001b[43m,\u001b[49m\u001b[43m \u001b[49m\u001b[43mtimeout\u001b[49m\u001b[38;5;241;43m=\u001b[39;49m\u001b[43mtimeout\u001b[49m\u001b[43m)\u001b[49m\n\u001b[0;32m     92\u001b[0m \u001b[38;5;28;01mexcept\u001b[39;00m core_exceptions\u001b[38;5;241m.\u001b[39mConflict \u001b[38;5;28;01mas\u001b[39;00m create_exc:\n\u001b[0;32m     93\u001b[0m     \u001b[38;5;66;03m# The thought is if someone is providing their own job IDs and they get\u001b[39;00m\n\u001b[0;32m     94\u001b[0m     \u001b[38;5;66;03m# their job ID generation wrong, this could end up returning results for\u001b[39;00m\n\u001b[0;32m     95\u001b[0m     \u001b[38;5;66;03m# the wrong query. We thus only try to recover if job ID was not given.\u001b[39;00m\n",
      "File \u001b[1;32m~\\miniconda3\\lib\\site-packages\\google\\cloud\\bigquery\\job\\query.py:1310\u001b[0m, in \u001b[0;36mQueryJob._begin\u001b[1;34m(self, client, retry, timeout)\u001b[0m\n\u001b[0;32m   1309\u001b[0m \u001b[38;5;28;01mtry\u001b[39;00m:\n\u001b[1;32m-> 1310\u001b[0m     \u001b[38;5;28;43msuper\u001b[39;49m\u001b[43m(\u001b[49m\u001b[43mQueryJob\u001b[49m\u001b[43m,\u001b[49m\u001b[43m \u001b[49m\u001b[38;5;28;43mself\u001b[39;49m\u001b[43m)\u001b[49m\u001b[38;5;241;43m.\u001b[39;49m\u001b[43m_begin\u001b[49m\u001b[43m(\u001b[49m\u001b[43mclient\u001b[49m\u001b[38;5;241;43m=\u001b[39;49m\u001b[43mclient\u001b[49m\u001b[43m,\u001b[49m\u001b[43m \u001b[49m\u001b[43mretry\u001b[49m\u001b[38;5;241;43m=\u001b[39;49m\u001b[43mretry\u001b[49m\u001b[43m,\u001b[49m\u001b[43m \u001b[49m\u001b[43mtimeout\u001b[49m\u001b[38;5;241;43m=\u001b[39;49m\u001b[43mtimeout\u001b[49m\u001b[43m)\u001b[49m\n\u001b[0;32m   1311\u001b[0m \u001b[38;5;28;01mexcept\u001b[39;00m exceptions\u001b[38;5;241m.\u001b[39mGoogleAPICallError \u001b[38;5;28;01mas\u001b[39;00m exc:\n",
      "File \u001b[1;32m~\\miniconda3\\lib\\site-packages\\google\\cloud\\bigquery\\job\\base.py:693\u001b[0m, in \u001b[0;36m_AsyncJob._begin\u001b[1;34m(self, client, retry, timeout)\u001b[0m\n\u001b[0;32m    692\u001b[0m span_attributes \u001b[38;5;241m=\u001b[39m {\u001b[38;5;124m\"\u001b[39m\u001b[38;5;124mpath\u001b[39m\u001b[38;5;124m\"\u001b[39m: path}\n\u001b[1;32m--> 693\u001b[0m api_response \u001b[38;5;241m=\u001b[39m \u001b[43mclient\u001b[49m\u001b[38;5;241;43m.\u001b[39;49m\u001b[43m_call_api\u001b[49m\u001b[43m(\u001b[49m\n\u001b[0;32m    694\u001b[0m \u001b[43m    \u001b[49m\u001b[43mretry\u001b[49m\u001b[43m,\u001b[49m\n\u001b[0;32m    695\u001b[0m \u001b[43m    \u001b[49m\u001b[43mspan_name\u001b[49m\u001b[38;5;241;43m=\u001b[39;49m\u001b[38;5;124;43m\"\u001b[39;49m\u001b[38;5;124;43mBigQuery.job.begin\u001b[39;49m\u001b[38;5;124;43m\"\u001b[39;49m\u001b[43m,\u001b[49m\n\u001b[0;32m    696\u001b[0m \u001b[43m    \u001b[49m\u001b[43mspan_attributes\u001b[49m\u001b[38;5;241;43m=\u001b[39;49m\u001b[43mspan_attributes\u001b[49m\u001b[43m,\u001b[49m\n\u001b[0;32m    697\u001b[0m \u001b[43m    \u001b[49m\u001b[43mjob_ref\u001b[49m\u001b[38;5;241;43m=\u001b[39;49m\u001b[38;5;28;43mself\u001b[39;49m\u001b[43m,\u001b[49m\n\u001b[0;32m    698\u001b[0m \u001b[43m    \u001b[49m\u001b[43mmethod\u001b[49m\u001b[38;5;241;43m=\u001b[39;49m\u001b[38;5;124;43m\"\u001b[39;49m\u001b[38;5;124;43mPOST\u001b[39;49m\u001b[38;5;124;43m\"\u001b[39;49m\u001b[43m,\u001b[49m\n\u001b[0;32m    699\u001b[0m \u001b[43m    \u001b[49m\u001b[43mpath\u001b[49m\u001b[38;5;241;43m=\u001b[39;49m\u001b[43mpath\u001b[49m\u001b[43m,\u001b[49m\n\u001b[0;32m    700\u001b[0m \u001b[43m    \u001b[49m\u001b[43mdata\u001b[49m\u001b[38;5;241;43m=\u001b[39;49m\u001b[38;5;28;43mself\u001b[39;49m\u001b[38;5;241;43m.\u001b[39;49m\u001b[43mto_api_repr\u001b[49m\u001b[43m(\u001b[49m\u001b[43m)\u001b[49m\u001b[43m,\u001b[49m\n\u001b[0;32m    701\u001b[0m \u001b[43m    \u001b[49m\u001b[43mtimeout\u001b[49m\u001b[38;5;241;43m=\u001b[39;49m\u001b[43mtimeout\u001b[49m\u001b[43m,\u001b[49m\n\u001b[0;32m    702\u001b[0m \u001b[43m\u001b[49m\u001b[43m)\u001b[49m\n\u001b[0;32m    703\u001b[0m \u001b[38;5;28mself\u001b[39m\u001b[38;5;241m.\u001b[39m_set_properties(api_response)\n",
      "File \u001b[1;32m~\\miniconda3\\lib\\site-packages\\google\\cloud\\bigquery\\client.py:813\u001b[0m, in \u001b[0;36mClient._call_api\u001b[1;34m(self, retry, span_name, span_attributes, job_ref, headers, **kwargs)\u001b[0m\n\u001b[0;32m    810\u001b[0m     \u001b[38;5;28;01mwith\u001b[39;00m create_span(\n\u001b[0;32m    811\u001b[0m         name\u001b[38;5;241m=\u001b[39mspan_name, attributes\u001b[38;5;241m=\u001b[39mspan_attributes, client\u001b[38;5;241m=\u001b[39m\u001b[38;5;28mself\u001b[39m, job_ref\u001b[38;5;241m=\u001b[39mjob_ref\n\u001b[0;32m    812\u001b[0m     ):\n\u001b[1;32m--> 813\u001b[0m         \u001b[38;5;28;01mreturn\u001b[39;00m \u001b[43mcall\u001b[49m\u001b[43m(\u001b[49m\u001b[43m)\u001b[49m\n\u001b[0;32m    815\u001b[0m \u001b[38;5;28;01mreturn\u001b[39;00m call()\n",
      "File \u001b[1;32m~\\miniconda3\\lib\\site-packages\\google\\api_core\\retry.py:349\u001b[0m, in \u001b[0;36mRetry.__call__.<locals>.retry_wrapped_func\u001b[1;34m(*args, **kwargs)\u001b[0m\n\u001b[0;32m    346\u001b[0m sleep_generator \u001b[38;5;241m=\u001b[39m exponential_sleep_generator(\n\u001b[0;32m    347\u001b[0m     \u001b[38;5;28mself\u001b[39m\u001b[38;5;241m.\u001b[39m_initial, \u001b[38;5;28mself\u001b[39m\u001b[38;5;241m.\u001b[39m_maximum, multiplier\u001b[38;5;241m=\u001b[39m\u001b[38;5;28mself\u001b[39m\u001b[38;5;241m.\u001b[39m_multiplier\n\u001b[0;32m    348\u001b[0m )\n\u001b[1;32m--> 349\u001b[0m \u001b[38;5;28;01mreturn\u001b[39;00m \u001b[43mretry_target\u001b[49m\u001b[43m(\u001b[49m\n\u001b[0;32m    350\u001b[0m \u001b[43m    \u001b[49m\u001b[43mtarget\u001b[49m\u001b[43m,\u001b[49m\n\u001b[0;32m    351\u001b[0m \u001b[43m    \u001b[49m\u001b[38;5;28;43mself\u001b[39;49m\u001b[38;5;241;43m.\u001b[39;49m\u001b[43m_predicate\u001b[49m\u001b[43m,\u001b[49m\n\u001b[0;32m    352\u001b[0m \u001b[43m    \u001b[49m\u001b[43msleep_generator\u001b[49m\u001b[43m,\u001b[49m\n\u001b[0;32m    353\u001b[0m \u001b[43m    \u001b[49m\u001b[38;5;28;43mself\u001b[39;49m\u001b[38;5;241;43m.\u001b[39;49m\u001b[43m_timeout\u001b[49m\u001b[43m,\u001b[49m\n\u001b[0;32m    354\u001b[0m \u001b[43m    \u001b[49m\u001b[43mon_error\u001b[49m\u001b[38;5;241;43m=\u001b[39;49m\u001b[43mon_error\u001b[49m\u001b[43m,\u001b[49m\n\u001b[0;32m    355\u001b[0m \u001b[43m\u001b[49m\u001b[43m)\u001b[49m\n",
      "File \u001b[1;32m~\\miniconda3\\lib\\site-packages\\google\\api_core\\retry.py:191\u001b[0m, in \u001b[0;36mretry_target\u001b[1;34m(target, predicate, sleep_generator, timeout, on_error, **kwargs)\u001b[0m\n\u001b[0;32m    190\u001b[0m \u001b[38;5;28;01mtry\u001b[39;00m:\n\u001b[1;32m--> 191\u001b[0m     \u001b[38;5;28;01mreturn\u001b[39;00m \u001b[43mtarget\u001b[49m\u001b[43m(\u001b[49m\u001b[43m)\u001b[49m\n\u001b[0;32m    193\u001b[0m \u001b[38;5;66;03m# pylint: disable=broad-except\u001b[39;00m\n\u001b[0;32m    194\u001b[0m \u001b[38;5;66;03m# This function explicitly must deal with broad exceptions.\u001b[39;00m\n",
      "File \u001b[1;32m~\\miniconda3\\lib\\site-packages\\google\\cloud\\_http\\__init__.py:494\u001b[0m, in \u001b[0;36mJSONConnection.api_request\u001b[1;34m(self, method, path, query_params, data, content_type, headers, api_base_url, api_version, expect_json, _target_object, timeout, extra_api_info)\u001b[0m\n\u001b[0;32m    493\u001b[0m \u001b[38;5;28;01mif\u001b[39;00m \u001b[38;5;129;01mnot\u001b[39;00m \u001b[38;5;241m200\u001b[39m \u001b[38;5;241m<\u001b[39m\u001b[38;5;241m=\u001b[39m response\u001b[38;5;241m.\u001b[39mstatus_code \u001b[38;5;241m<\u001b[39m \u001b[38;5;241m300\u001b[39m:\n\u001b[1;32m--> 494\u001b[0m     \u001b[38;5;28;01mraise\u001b[39;00m exceptions\u001b[38;5;241m.\u001b[39mfrom_http_response(response)\n\u001b[0;32m    496\u001b[0m \u001b[38;5;28;01mif\u001b[39;00m expect_json \u001b[38;5;129;01mand\u001b[39;00m response\u001b[38;5;241m.\u001b[39mcontent:\n",
      "\u001b[1;31mForbidden\u001b[0m: 403 POST https://bigquery.googleapis.com/bigquery/v2/projects/gdelt-d-379201/jobs?prettyPrint=false: Access Denied: Project gdelt-d-379201: User does not have bigquery.jobs.create permission in project gdelt-d-379201.\n\nLocation: None\nJob ID: 577b9632-bb31-45fe-867b-41ea197eda4c\n",
      "\nDuring handling of the above exception, another exception occurred:\n",
      "\u001b[1;31mGenericGBQException\u001b[0m                       Traceback (most recent call last)",
      "Cell \u001b[1;32mIn[2], line 5\u001b[0m\n\u001b[0;32m      1\u001b[0m query \u001b[38;5;241m=\u001b[39m \u001b[38;5;124m\"\"\"\u001b[39m\n\u001b[0;32m      2\u001b[0m \u001b[38;5;124m    SELECT * FROM `gdelt-bq.full.events` WHERE EventBaseCode = \u001b[39m\u001b[38;5;124m\"\u001b[39m\u001b[38;5;124m014\u001b[39m\u001b[38;5;124m\"\u001b[39m\u001b[38;5;124m LIMIT 10;\u001b[39m\n\u001b[0;32m      3\u001b[0m \u001b[38;5;124m\"\"\"\u001b[39m\n\u001b[1;32m----> 5\u001b[0m event_df \u001b[38;5;241m=\u001b[39m \u001b[43mpandas_gbq\u001b[49m\u001b[38;5;241;43m.\u001b[39;49m\u001b[43mread_gbq\u001b[49m\u001b[43m(\u001b[49m\u001b[43mquery\u001b[49m\u001b[43m,\u001b[49m\u001b[43m \u001b[49m\u001b[43mproject_id\u001b[49m\u001b[38;5;241;43m=\u001b[39;49m\u001b[38;5;124;43m\"\u001b[39;49m\u001b[38;5;124;43mgdelt-d-379201\u001b[39;49m\u001b[38;5;124;43m\"\u001b[39;49m\u001b[43m)\u001b[49m\n\u001b[0;32m      6\u001b[0m event_df\n",
      "File \u001b[1;32m~\\miniconda3\\lib\\site-packages\\pandas_gbq\\gbq.py:943\u001b[0m, in \u001b[0;36mread_gbq\u001b[1;34m(query_or_table, project_id, index_col, col_order, reauth, auth_local_webserver, dialect, location, configuration, credentials, use_bqstorage_api, max_results, verbose, private_key, progress_bar_type, dtypes, auth_redirect_uri, client_id, client_secret)\u001b[0m\n\u001b[0;32m    928\u001b[0m connector \u001b[38;5;241m=\u001b[39m GbqConnector(\n\u001b[0;32m    929\u001b[0m     project_id,\n\u001b[0;32m    930\u001b[0m     reauth\u001b[38;5;241m=\u001b[39mreauth,\n\u001b[1;32m   (...)\u001b[0m\n\u001b[0;32m    939\u001b[0m     client_secret\u001b[38;5;241m=\u001b[39mclient_secret,\n\u001b[0;32m    940\u001b[0m )\n\u001b[0;32m    942\u001b[0m \u001b[38;5;28;01mif\u001b[39;00m _is_query(query_or_table):\n\u001b[1;32m--> 943\u001b[0m     final_df \u001b[38;5;241m=\u001b[39m \u001b[43mconnector\u001b[49m\u001b[38;5;241;43m.\u001b[39;49m\u001b[43mrun_query\u001b[49m\u001b[43m(\u001b[49m\n\u001b[0;32m    944\u001b[0m \u001b[43m        \u001b[49m\u001b[43mquery_or_table\u001b[49m\u001b[43m,\u001b[49m\n\u001b[0;32m    945\u001b[0m \u001b[43m        \u001b[49m\u001b[43mconfiguration\u001b[49m\u001b[38;5;241;43m=\u001b[39;49m\u001b[43mconfiguration\u001b[49m\u001b[43m,\u001b[49m\n\u001b[0;32m    946\u001b[0m \u001b[43m        \u001b[49m\u001b[43mmax_results\u001b[49m\u001b[38;5;241;43m=\u001b[39;49m\u001b[43mmax_results\u001b[49m\u001b[43m,\u001b[49m\n\u001b[0;32m    947\u001b[0m \u001b[43m        \u001b[49m\u001b[43mprogress_bar_type\u001b[49m\u001b[38;5;241;43m=\u001b[39;49m\u001b[43mprogress_bar_type\u001b[49m\u001b[43m,\u001b[49m\n\u001b[0;32m    948\u001b[0m \u001b[43m        \u001b[49m\u001b[43mdtypes\u001b[49m\u001b[38;5;241;43m=\u001b[39;49m\u001b[43mdtypes\u001b[49m\u001b[43m,\u001b[49m\n\u001b[0;32m    949\u001b[0m \u001b[43m    \u001b[49m\u001b[43m)\u001b[49m\n\u001b[0;32m    950\u001b[0m \u001b[38;5;28;01melse\u001b[39;00m:\n\u001b[0;32m    951\u001b[0m     final_df \u001b[38;5;241m=\u001b[39m connector\u001b[38;5;241m.\u001b[39mdownload_table(\n\u001b[0;32m    952\u001b[0m         query_or_table,\n\u001b[0;32m    953\u001b[0m         max_results\u001b[38;5;241m=\u001b[39mmax_results,\n\u001b[0;32m    954\u001b[0m         progress_bar_type\u001b[38;5;241m=\u001b[39mprogress_bar_type,\n\u001b[0;32m    955\u001b[0m         dtypes\u001b[38;5;241m=\u001b[39mdtypes,\n\u001b[0;32m    956\u001b[0m     )\n",
      "File \u001b[1;32m~\\miniconda3\\lib\\site-packages\\pandas_gbq\\gbq.py:495\u001b[0m, in \u001b[0;36mGbqConnector.run_query\u001b[1;34m(self, query, max_results, progress_bar_type, **kwargs)\u001b[0m\n\u001b[0;32m    490\u001b[0m         \u001b[38;5;28;01mraise\u001b[39;00m AccessDenied(\n\u001b[0;32m    491\u001b[0m             \u001b[38;5;124m\"\u001b[39m\u001b[38;5;124mThe credentials have been revoked or expired, \u001b[39m\u001b[38;5;124m\"\u001b[39m\n\u001b[0;32m    492\u001b[0m             \u001b[38;5;124m\"\u001b[39m\u001b[38;5;124mplease re-run the application to re-authorize\u001b[39m\u001b[38;5;124m\"\u001b[39m\n\u001b[0;32m    493\u001b[0m         )\n\u001b[0;32m    494\u001b[0m \u001b[38;5;28;01mexcept\u001b[39;00m \u001b[38;5;28mself\u001b[39m\u001b[38;5;241m.\u001b[39mhttp_error \u001b[38;5;28;01mas\u001b[39;00m ex:\n\u001b[1;32m--> 495\u001b[0m     \u001b[38;5;28;43mself\u001b[39;49m\u001b[38;5;241;43m.\u001b[39;49m\u001b[43mprocess_http_error\u001b[49m\u001b[43m(\u001b[49m\u001b[43mex\u001b[49m\u001b[43m)\u001b[49m\n\u001b[0;32m    497\u001b[0m job_id \u001b[38;5;241m=\u001b[39m query_reply\u001b[38;5;241m.\u001b[39mjob_id\n\u001b[0;32m    498\u001b[0m logger\u001b[38;5;241m.\u001b[39mdebug(\u001b[38;5;124m\"\u001b[39m\u001b[38;5;124mJob ID: \u001b[39m\u001b[38;5;132;01m%s\u001b[39;00m\u001b[38;5;124m\"\u001b[39m \u001b[38;5;241m%\u001b[39m job_id)\n",
      "File \u001b[1;32m~\\miniconda3\\lib\\site-packages\\pandas_gbq\\gbq.py:396\u001b[0m, in \u001b[0;36mGbqConnector.process_http_error\u001b[1;34m(ex)\u001b[0m\n\u001b[0;32m    394\u001b[0m     \u001b[38;5;28;01mraise\u001b[39;00m TableCreationError(\u001b[38;5;124mf\u001b[39m\u001b[38;5;124m\"\u001b[39m\u001b[38;5;124mReason: \u001b[39m\u001b[38;5;132;01m{\u001b[39;00merror_message\u001b[38;5;132;01m}\u001b[39;00m\u001b[38;5;124m\"\u001b[39m)\n\u001b[0;32m    395\u001b[0m \u001b[38;5;28;01melse\u001b[39;00m:\n\u001b[1;32m--> 396\u001b[0m     \u001b[38;5;28;01mraise\u001b[39;00m GenericGBQException(\u001b[38;5;124m\"\u001b[39m\u001b[38;5;124mReason: \u001b[39m\u001b[38;5;132;01m{0}\u001b[39;00m\u001b[38;5;124m\"\u001b[39m\u001b[38;5;241m.\u001b[39mformat(ex))\n",
      "\u001b[1;31mGenericGBQException\u001b[0m: Reason: 403 POST https://bigquery.googleapis.com/bigquery/v2/projects/gdelt-d-379201/jobs?prettyPrint=false: Access Denied: Project gdelt-d-379201: User does not have bigquery.jobs.create permission in project gdelt-d-379201.\n\nLocation: None\nJob ID: 577b9632-bb31-45fe-867b-41ea197eda4c\n"
     ]
    }
   ],
   "source": [
    "query = \"\"\"\n",
    "    SELECT * FROM `gdelt-bq.full.events` WHERE EventBaseCode = \"014\" LIMIT 10;\n",
    "\"\"\"\n",
    "\n",
    "event_df = pandas_gbq.read_gbq(query, project_id=\"gdelt-d-379201\")\n",
    "event_df"
   ]
  },
  {
   "cell_type": "markdown",
   "id": "1b078b81",
   "metadata": {},
   "source": [
    "### Google Trends"
   ]
  },
  {
   "cell_type": "code",
   "execution_count": 3,
   "id": "db3ef98d",
   "metadata": {},
   "outputs": [],
   "source": [
    "def load_keywords(kw_list):\n",
    "    trends = TrendReq(hl=\"en-US\", tz=360)\n",
    "    trends.build_payload(kw_list, timeframe='today 5-y')\n",
    "    kw_trend_df = trends.interest_over_time()\n",
    "    \n",
    "    return kw_trend_df\n",
    "    \n",
    "def add_keywords(new_kw_list, kw_trend_df):\n",
    "    new_kw_trend_df = load_keywords(new_kw_list)\n",
    "    \n",
    "    for col in new_kw_trend_df.columns:\n",
    "        kw_trend_df[col] = new_kw_trend_df[col]\n",
    "    \n",
    "    return kw_trend_df\n",
    "\n",
    "KEYWORDS = [\"blm\", \"defund\", \"abolish\", \"george floyd\", \"police\", \"prison\", \"protest\", \"justice\", \"trump\", \"all lives matter\", \"blm\", \"defund\", \"abolish\", \"police\"]"
   ]
  },
  {
   "cell_type": "markdown",
   "id": "417fae22",
   "metadata": {},
   "source": [
    "### Load Keywords in Chunks"
   ]
  },
  {
   "cell_type": "code",
   "execution_count": 4,
   "id": "9e689d5d",
   "metadata": {},
   "outputs": [],
   "source": [
    "n = 4\n",
    "chunks = len(KEYWORDS) // n\n",
    "kw_trend_df = pd.DataFrame()\n",
    "\n",
    "for i in range(chunks):\n",
    "    kw_chunk = KEYWORDS[(i * n):((i + 1) * n)]\n",
    "    kw_trend_df = add_keywords(kw_chunk, kw_trend_df)"
   ]
  },
  {
   "cell_type": "code",
   "execution_count": 5,
   "id": "6dc6b5d4",
   "metadata": {
    "scrolled": true
   },
   "outputs": [
    {
     "data": {
      "text/plain": [
       "<Axes: xlabel='date'>"
      ]
     },
     "execution_count": 5,
     "metadata": {},
     "output_type": "execute_result"
    },
    {
     "data": {
      "image/png": "[encoded data removed]",
      "text/plain": [
       "<Figure size 640x480 with 1 Axes>"
      ]
     },
     "metadata": {},
     "output_type": "display_data"
    }
   ],
   "source": [
    "kw_trend_df.plot(y=[\"blm\", \"defund\", \"abolish\", \"police\"], use_index=True)"
   ]
  },
  {
   "cell_type": "markdown",
   "id": "72513cc0",
   "metadata": {},
   "source": [
    "#### Plotting as a Network"
   ]
  },
  {
   "cell_type": "code",
   "execution_count": null,
   "id": "e1b1c2c6",
   "metadata": {},
   "outputs": [],
   "source": [
    "SIGNIFICANCE_THRESHOLD = 0.3\n",
    "\n",
    "def generate_correlation_graph(trend_df, autocor=False, threshold=SIGNIFICANCE_THRESHOLD):\n",
    "    kw_list = list(trend_df.columns)\n",
    "    kw_list.remove(\"isPartial\")\n",
    "\n",
    "    kws = len(kw_list)\n",
    "    correlations = np.zeros((kws, kws))\n",
    "    kw_net = nx.Graph()\n",
    "    \n",
    "    for i in range(kws):\n",
    "        kw_net.add_node(i, label=kw_list[i])\n",
    "        \n",
    "        for j in range(kws):\n",
    "                if autocor or i != j:\n",
    "                    corr = kw_trend_df[kw_list[i]].corr(kw_trend_df[kw_list[j]])\n",
    "                    \n",
    "                    if np.isnan(corr):\n",
    "                        print(kw_list[i], kw_list[j])\n",
    "                    \n",
    "                    if corr != 0 and not np.isnan(corr):\n",
    "                        kw_net.add_edge(i, j, corr=corr, weight=np.abs(corr))\n",
    "        \n",
    "    return kw_net\n",
    "\n",
    "DEFAULT_WIDTH_FN = lambda edge: 3 * edge[\"corr\"] ** 2\n",
    "\n",
    "def choose_color(edge):\n",
    "    if edge[\"corr\"] > 0:\n",
    "        return \"lightgreen\"\n",
    "    else:\n",
    "        return \"red\"\n",
    "\n",
    "def draw(graph, layout=nx.spring_layout, width_fn=DEFAULT_WIDTH_FN):\n",
    "    pos = layout(graph)\n",
    "    edges = graph.edges()\n",
    "    weights = [width_fn(graph[i][j]) for i,j in edges]\n",
    "    edge_colors = [choose_color(graph[i][j]) for i,j in edges]\n",
    "    labels = nx.get_node_attributes(graph, \"label\")\n",
    "\n",
    "    nx.draw_networkx_labels(kw_net, pos, labels=labels)\n",
    "    nx.draw(\n",
    "        graph,\n",
    "        pos,\n",
    "        width=list(weights),\n",
    "        node_color=\"lightgrey\",\n",
    "        edge_color=edge_colors\n",
    "    )"
   ]
  },
  {
   "cell_type": "code",
   "execution_count": null,
   "id": "7ffa4875",
   "metadata": {
    "scrolled": true
   },
   "outputs": [],
   "source": [
    "kw_net = generate_correlation_graph(kw_trend_df, threshold=0)\n",
    "draw(kw_net, layout=nx.spring_layout)"
   ]
  },
  {
   "cell_type": "markdown",
   "id": "43bcb3eb",
   "metadata": {},
   "source": [
    "### C-SPAN"
   ]
  },
  {
   "cell_type": "markdown",
   "id": "8a6a9445",
   "metadata": {},
   "source": [
    "#### Data Aggregation"
   ]
  },
  {
   "cell_type": "code",
   "execution_count": 7,
   "id": "e2aea649",
   "metadata": {},
   "outputs": [
    {
     "name": "stdout",
     "output_type": "stream",
     "text": [
      "Complete!\n"
     ]
    }
   ],
   "source": [
    "FIRST_CONGRESS = 97\n",
    "LAST_CONGRESS = 114\n",
    "congresses = range(FIRST_CONGRESS, LAST_CONGRESS + 1)\n",
    "\n",
    "def full_speeches_exist():\n",
    "    for congress in congresses:\n",
    "        if not os.path.isfile(f\"data/full/full_{get_num(congress)}.csv\"):\n",
    "            return False\n",
    "    return True\n",
    "\n",
    "def get_num(congress):\n",
    "    if congress < 100:\n",
    "        return \"0\" + str(congress)\n",
    "    else:\n",
    "        return str(congress)\n",
    "\n",
    "def get_full_speeches():\n",
    "    for congress in congresses:\n",
    "        num = get_num(congress)\n",
    "\n",
    "        descsDf = pd.read_csv(f\"CongressData/descs/descr_{num}.txt\", sep=\"|\", encoding = 'unicode_escape', on_bad_lines='skip')\n",
    "        descsDf[\"speech_id\"] = descsDf[\"speech_id\"].astype(\"string\")\n",
    "\n",
    "        speechesDf = pd.read_csv(f\"CongressData/speeches/speeches_{num}.txt\", sep=\"|\", encoding = 'unicode_escape', on_bad_lines='skip')\n",
    "        speechesDf[\"speech_id\"] = speechesDf[\"speech_id\"].astype(\"string\")\n",
    "\n",
    "        speakersDf = pd.read_csv(f\"CongressData/speakers/{num}_SpeakerMap.txt\", sep=\"|\", encoding = 'unicode_escape', on_bad_lines='skip')\n",
    "        speakersDf[\"speech_id\"] = speechesDf[\"speech_id\"].astype(\"string\")\n",
    "\n",
    "        descsDf = descsDf.merge(speechesDf, on=\"speech_id\", how=\"outer\")\n",
    "        descsDf = descsDf.merge(speakersDf, on=\"speech_id\", how=\"outer\")\n",
    "\n",
    "        descsDf.to_csv(f\"CongressData/full/full_{num}.csv\")\n",
    "\n",
    "if not full_speeches_exist():\n",
    "    # get_full_speeches() //uncomment if you actually wanna redo all the data consolidation\n",
    "    print(\"Complete!\")"
   ]
  },
  {
   "cell_type": "markdown",
   "id": "b0363fdf",
   "metadata": {},
   "source": [
    "#### Converting C-SPAN to C-TRENDS"
   ]
  },
  {
   "cell_type": "code",
   "execution_count": 8,
   "id": "525d0b2b",
   "metadata": {},
   "outputs": [],
   "source": [
    "FIRST_CONGRESS = 97\n",
    "LAST_CONGRESS = 114\n",
    "congresses = range(FIRST_CONGRESS, LAST_CONGRESS + 1)\n",
    "\n",
    "num = get_num(FIRST_CONGRESS)\n",
    "\n",
    "descs = pd.read_csv(f\"CongressData/descs/descr_{num}.txt\", sep=\"|\", encoding = 'unicode_escape', on_bad_lines='skip', low_memory=False)\n",
    "full_speech = pd.read_csv(f\"CongressData/full/full_{num}.csv\", low_memory=False )"
   ]
  },
  {
   "cell_type": "code",
   "execution_count": 11,
   "id": "cc996e3e",
   "metadata": {},
   "outputs": [
    {
     "name": "stdout",
     "output_type": "stream",
     "text": [
      "Complete!\n"
     ]
    }
   ],
   "source": [
    "def to_datetime(col):\n",
    "    date = col.astype(\"str\").str\n",
    "    return pd.to_datetime(date[:4] + \"/\" + date[4:6] + \"/\" + date[6:])\n",
    "\n",
    "def phrase_title(phrase):\n",
    "    return f\"count_{phrase}\"\n",
    "def get_ctrends(phrases=[], disag=[]):\n",
    "    ctrends = pd.DataFrame()\n",
    "    phrase_column_titles = [phrase_title(i) for i in phrases]  # this creates a list of phrases with \"count_\" in front\n",
    "\n",
    "    # add columns to ctrends df\n",
    "    ctrends = ctrends.reindex(columns=[\"date\", *phrase_column_titles, *disag])\n",
    "\n",
    "    #list of partial ctrends\n",
    "    temp = []\n",
    "\n",
    "    for congress in congresses:\n",
    "        num = get_num(congress)\n",
    "\n",
    "        full_speech = pd.read_csv(f\"CongressData/full/full_{num}.csv\", low_memory=False)\n",
    "        full_speech = full_speech[[*disag, \"speech\", \"date\"]]\n",
    "\n",
    "        for phrase in phrases:\n",
    "            full_speech[f\"count_{phrase}\"] = full_speech[\"speech\"].str.count(phrase)\n",
    "\n",
    "        ctrends_speech = full_speech.groupby([\"date\", *disag]).sum(numeric_only=True).reset_index()\n",
    "        ctrends_speech = ctrends_speech[[*phrase_column_titles, *disag, \"date\"]]\n",
    "        temp.append(ctrends_speech)\n",
    "\n",
    "    ctrends= pd.concat(temp)\n",
    "\n",
    "    ctrends[\"date\"] = to_datetime(ctrends[\"date\"])\n",
    "\n",
    "    return ctrends\n",
    "\n",
    "\n",
    "ctrends = get_ctrends(phrases=KEYWORDS, disag=[\"party\"])\n",
    "ctrends.to_csv(\"ctrends.csv\")\n",
    "print(\"Complete!\")"
   ]
  },
  {
   "cell_type": "code",
   "execution_count": null,
   "id": "177f1e7e",
   "metadata": {},
   "outputs": [],
   "source": []
  },
  {
   "cell_type": "code",
   "execution_count": null,
   "id": "7772a27a",
   "metadata": {},
   "outputs": [],
   "source": []
  }
 ],
 "metadata": {
  "kernelspec": {
   "display_name": "Python 3 (ipykernel)",
   "language": "python",
   "name": "python3"
  },
  "language_info": {
   "codemirror_mode": {
    "name": "ipython",
    "version": 3
   },
   "file_extension": ".py",
   "mimetype": "text/x-python",
   "name": "python",
   "nbconvert_exporter": "python",
   "pygments_lexer": "ipython3",
   "version": "3.10.10"
  }
 },
 "nbformat": 4,
 "nbformat_minor": 5
}
